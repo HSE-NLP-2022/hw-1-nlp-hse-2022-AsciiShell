{
 "cells": [
  {
   "cell_type": "markdown",
   "metadata": {},
   "source": [
    "# Домашнее задание\n",
    "## Harry Potter and the Action Prediction Challenge from Natural Language\n",
    "\n",
    "*deadline*: 14 ноября 2022, 23:59\n",
    "\n",
    "В этом домашнем задании вы будете работать с корпусом Harry Potter and the Action Prediction Challenge. Корпус собран из фанфиков о Гарри Поттере и состоит из двух частей: 1) сырые тексты, 2) фрагменты текстов, описывающих ситуацию, в которой произнесено заклинание.\n",
    "\n",
    "Корпус описан в статье: https://arxiv.org/pdf/1905.11037.pdf\n",
    "\n",
    "David Vilares and Carlos Gómez-Rodríguez. Harry Potter and the Action Prediction Challenge from Natural Language. 2019 Annual Conference of the North American Chapter of the Association for Computational Linguistics. To appear.\n",
    "\n",
    "Код для сбора корпуса находится в репозитории: https://github.com/aghie/hpac . Корпус можно скачать по инструкции из этого репозитория, но для экономии времени авторы задания уже скачали и подготовили данные к работе. \n",
    "\n",
    "Ссылки на собранный корпус: \n",
    "* Сырые тексты:  https://www.dropbox.com/s/23xet9kvbqna1qs/hpac_raw.zip?dl=0\n",
    "* Токенизированные тексты в нижнем регистре: https://www.dropbox.com/s/gwfgmomdbetvdye/hpac_lower_tokenized.zip?dl=0\n",
    "* train-test-dev: https://www.dropbox.com/s/3vdz0mouvex8abd/hpac_splits.zip?dl=0\n",
    "\n",
    "Части 1, 2 задания должны быть выполнены на полных текстах (сырых или предобработанных -- на ваше усмотрение), Часть 3 – на разбиение на тестовое, отладочное и обучающее множества. Тестовое множество должно быть использовано исключительно для тестирования моделей, обучающее и отладочное – для выбора модели и параметров. \n",
    "\n",
    "В статье и репозитории вы найдете идеи, которые помогут вам выполнить домашнее задание. Их стоит воспринимать как руководство к действию, и не стоит их копировать и переиспользовать. Обученные модели использовать не нужно, код для их обучения можно использовать как подсказку. \n",
    "\n",
    "## ПРАВИЛА\n",
    "1. Домашнее задание выполняется в группе до 3-х человек.\n",
    "2. Домашнее задание оформляется в виде отчета либо в .pdf файле, либо ipython-тетрадке. \n",
    "3. Отчет должен содержать: нумерацию заданий и пунктов, которые вы выполнили, код решения, и понятное пошаговое описание того, что вы сделали. Отчет должен быть написан в академическом стиле, без излишнего использования сленга и с соблюдением норм русского языка.\n",
    "4. Не стоит копировать фрагменты лекций, статей и Википедии в ваш отчет.\n",
    "5. Отчеты, состоящие исключительно из кода, не будут проверены и будут автоматически оценены нулевой оценкой.\n",
    "6. Плагиат и любое недобросоветсное цитирование приводит к обнуление оценки. "
   ]
  },
  {
   "cell_type": "markdown",
   "metadata": {},
   "source": [
    "## Часть 1. [2 балла] Эксплоративный анализ \n",
    "1. Найдите топ-1000 слов по частоте без учета стоп-слов.\n",
    "2. Найдите топ-10 по частоте: имен, пар имя + фамилия, пар вида ''профессор'' + имя / фамилия. \n",
    "\n",
    "[бонус] Постройте тематическую модель по корпусу HPAC.\n",
    "\n",
    "[бонус] Найдите еще что-то интересное в корпусе (что-то специфичное для фанфиков или фентези-тематики)"
   ]
  },
  {
   "cell_type": "code",
   "execution_count": 1,
   "metadata": {
    "execution": {
     "iopub.execute_input": "2022-11-10T18:13:03.650975Z",
     "iopub.status.busy": "2022-11-10T18:13:03.650286Z",
     "iopub.status.idle": "2022-11-10T18:13:15.690727Z",
     "shell.execute_reply": "2022-11-10T18:13:15.690160Z",
     "shell.execute_reply.started": "2022-11-10T18:13:03.650906Z"
    },
    "tags": []
   },
   "outputs": [
    {
     "name": "stdout",
     "output_type": "stream",
     "text": [
      "sys.version='3.10.8 (main, Oct 18 2022, 22:21:01) [GCC 9.4.0]'\n",
      "pd.__version__='1.4.4'\n",
      "np.__version__='1.23.4'\n"
     ]
    }
   ],
   "source": [
    "import multiprocessing\n",
    "import os\n",
    "import sys\n",
    "import zipfile\n",
    "from collections import Counter\n",
    "\n",
    "import fasttext\n",
    "import numpy as np\n",
    "import pandas as pd\n",
    "import matplotlib.pyplot as plt\n",
    "from nltk.corpus import stopwords\n",
    "from nltk.tokenize import word_tokenize\n",
    "from tqdm.auto import tqdm\n",
    "\n",
    "print(f\"\"\"{sys.version=}\"\"\")\n",
    "print(f\"\"\"{pd.__version__=}\"\"\")\n",
    "print(f\"\"\"{np.__version__=}\"\"\")"
   ]
  },
  {
   "cell_type": "code",
   "execution_count": 2,
   "metadata": {
    "execution": {
     "iopub.execute_input": "2022-11-05T11:14:17.845989Z",
     "iopub.status.busy": "2022-11-05T11:14:17.845479Z",
     "iopub.status.idle": "2022-11-05T11:14:17.848573Z",
     "shell.execute_reply": "2022-11-05T11:14:17.848060Z",
     "shell.execute_reply.started": "2022-11-05T11:14:17.845967Z"
    },
    "tags": []
   },
   "outputs": [],
   "source": [
    "root = \"/home/asciishell/s3/jupyter.asciishell.ru/nlp_hw_1\"\n",
    "root2 = \"/home/asciishell/s3/jupyter-storage-1/nlp_hw_1\""
   ]
  },
  {
   "cell_type": "code",
   "execution_count": 3,
   "metadata": {
    "execution": {
     "iopub.execute_input": "2022-11-05T11:14:18.526015Z",
     "iopub.status.busy": "2022-11-05T11:14:18.525277Z",
     "iopub.status.idle": "2022-11-05T11:14:38.166167Z",
     "shell.execute_reply": "2022-11-05T11:14:38.165531Z",
     "shell.execute_reply.started": "2022-11-05T11:14:18.525990Z"
    },
    "tags": []
   },
   "outputs": [
    {
     "data": {
      "application/vnd.jupyter.widget-view+json": {
       "model_id": "f33a0e27f0484f9c9c8fd5ac7e56ba6f",
       "version_major": 2,
       "version_minor": 0
      },
      "text/plain": [
       "  0%|          | 0/36226 [00:00<?, ?it/s]"
      ]
     },
     "metadata": {},
     "output_type": "display_data"
    }
   ],
   "source": [
    "data = []\n",
    "with zipfile.ZipFile(f\"{root}/hpac_lower_tokenized.zip\") as f:\n",
    "    for fname in tqdm(f.filelist):\n",
    "        if fname.compress_size == 0:\n",
    "            continue\n",
    "        data.append({\"fname\": fname.filename, \"text\": f.read(fname.filename).decode()})\n",
    "data = pd.DataFrame(data)"
   ]
  },
  {
   "cell_type": "code",
   "execution_count": 4,
   "metadata": {
    "execution": {
     "iopub.execute_input": "2022-11-05T11:14:38.167720Z",
     "iopub.status.busy": "2022-11-05T11:14:38.167256Z",
     "iopub.status.idle": "2022-11-05T11:14:38.175683Z",
     "shell.execute_reply": "2022-11-05T11:14:38.175181Z",
     "shell.execute_reply.started": "2022-11-05T11:14:38.167698Z"
    },
    "tags": []
   },
   "outputs": [
    {
     "data": {
      "text/html": [
       "<div>\n",
       "<style scoped>\n",
       "    .dataframe tbody tr th:only-of-type {\n",
       "        vertical-align: middle;\n",
       "    }\n",
       "\n",
       "    .dataframe tbody tr th {\n",
       "        vertical-align: top;\n",
       "    }\n",
       "\n",
       "    .dataframe thead th {\n",
       "        text-align: right;\n",
       "    }\n",
       "</style>\n",
       "<table border=\"1\" class=\"dataframe\">\n",
       "  <thead>\n",
       "    <tr style=\"text-align: right;\">\n",
       "      <th></th>\n",
       "      <th>fname</th>\n",
       "      <th>text</th>\n",
       "    </tr>\n",
       "  </thead>\n",
       "  <tbody>\n",
       "    <tr>\n",
       "      <th>0</th>\n",
       "      <td>hpac_source/4472122</td>\n",
       "      <td>... ` that wand 's more trouble than it 's wor...</td>\n",
       "    </tr>\n",
       "    <tr>\n",
       "      <th>1</th>\n",
       "      <td>hpac_source/5214134</td>\n",
       "      <td>it 's quite simple ... . you may look but you ...</td>\n",
       "    </tr>\n",
       "    <tr>\n",
       "      <th>2</th>\n",
       "      <td>hpac_source/5287826</td>\n",
       "      <td>i own none of this . jo rowling does . -------...</td>\n",
       "    </tr>\n",
       "    <tr>\n",
       "      <th>3</th>\n",
       "      <td>hpac_source/11996224</td>\n",
       "      <td>chapter 1 : next-door neighbours he 's in the ...</td>\n",
       "    </tr>\n",
       "    <tr>\n",
       "      <th>4</th>\n",
       "      <td>hpac_source/7887747</td>\n",
       "      <td>a/n : i do not own anything ! this story is wr...</td>\n",
       "    </tr>\n",
       "  </tbody>\n",
       "</table>\n",
       "</div>"
      ],
      "text/plain": [
       "                  fname                                               text\n",
       "0   hpac_source/4472122  ... ` that wand 's more trouble than it 's wor...\n",
       "1   hpac_source/5214134  it 's quite simple ... . you may look but you ...\n",
       "2   hpac_source/5287826  i own none of this . jo rowling does . -------...\n",
       "3  hpac_source/11996224  chapter 1 : next-door neighbours he 's in the ...\n",
       "4   hpac_source/7887747  a/n : i do not own anything ! this story is wr..."
      ]
     },
     "execution_count": 4,
     "metadata": {},
     "output_type": "execute_result"
    }
   ],
   "source": [
    "data.head()"
   ]
  },
  {
   "cell_type": "code",
   "execution_count": 24,
   "metadata": {
    "execution": {
     "iopub.execute_input": "2022-11-05T12:40:23.770208Z",
     "iopub.status.busy": "2022-11-05T12:40:23.769562Z",
     "iopub.status.idle": "2022-11-05T12:41:52.178346Z",
     "shell.execute_reply": "2022-11-05T12:41:52.177306Z",
     "shell.execute_reply.started": "2022-11-05T12:40:23.770184Z"
    },
    "tags": []
   },
   "outputs": [
    {
     "data": {
      "application/vnd.jupyter.widget-view+json": {
       "model_id": "7351044ccf93469e97daf464bb72cb7b",
       "version_major": 2,
       "version_minor": 0
      },
      "text/plain": [
       "  0%|          | 0/36225 [00:00<?, ?it/s]"
      ]
     },
     "metadata": {},
     "output_type": "display_data"
    }
   ],
   "source": [
    "c = Counter()\n",
    "stop_words = set(stopwords.words(\"english\"))\n",
    "\n",
    "\n",
    "def foo(text):\n",
    "    return [x for x in text.split() if x not in stop_words and any([c.isalpha() for c in x])]\n",
    "\n",
    "\n",
    "with multiprocessing.Pool(4) as pool:\n",
    "    for tokens in tqdm(pool.imap_unordered(foo, data[\"text\"].values), total=len(data)):\n",
    "        c.update(tokens)"
   ]
  },
  {
   "cell_type": "code",
   "execution_count": 29,
   "metadata": {
    "execution": {
     "iopub.execute_input": "2022-11-05T12:44:31.607324Z",
     "iopub.status.busy": "2022-11-05T12:44:31.606654Z",
     "iopub.status.idle": "2022-11-05T12:44:31.611640Z",
     "shell.execute_reply": "2022-11-05T12:44:31.611115Z",
     "shell.execute_reply.started": "2022-11-05T12:44:31.607294Z"
    }
   },
   "outputs": [
    {
     "data": {
      "text/plain": [
       "False"
      ]
     },
     "execution_count": 29,
     "metadata": {},
     "output_type": "execute_result"
    }
   ],
   "source": [
    "\"\" in c"
   ]
  },
  {
   "cell_type": "code",
   "execution_count": 27,
   "metadata": {
    "execution": {
     "iopub.execute_input": "2022-11-05T12:43:38.671995Z",
     "iopub.status.busy": "2022-11-05T12:43:38.671402Z",
     "iopub.status.idle": "2022-11-05T12:43:38.786217Z",
     "shell.execute_reply": "2022-11-05T12:43:38.785382Z",
     "shell.execute_reply.started": "2022-11-05T12:43:38.671969Z"
    },
    "tags": []
   },
   "outputs": [],
   "source": [
    "with open(f\"{root2}/top_1000.txt\", \"wt\") as f:\n",
    "    f.write(\"\\n\".join([k.replace(\"\\n\", \" \") for k, v in c.most_common(1000)]))"
   ]
  },
  {
   "cell_type": "code",
   "execution_count": 28,
   "metadata": {
    "execution": {
     "iopub.execute_input": "2022-11-05T12:44:00.570262Z",
     "iopub.status.busy": "2022-11-05T12:44:00.569512Z",
     "iopub.status.idle": "2022-11-05T12:44:00.849776Z",
     "shell.execute_reply": "2022-11-05T12:44:00.848935Z",
     "shell.execute_reply.started": "2022-11-05T12:44:00.570236Z"
    }
   },
   "outputs": [
    {
     "name": "stdout",
     "output_type": "stream",
     "text": [
      " 999 1000 6530 /home/asciishell/s3/jupyter-storage-1/nlp_hw_1/top_1000.txt\n"
     ]
    }
   ],
   "source": [
    "!wc {root2}/top_1000.txt"
   ]
  },
  {
   "cell_type": "code",
   "execution_count": 25,
   "metadata": {
    "execution": {
     "iopub.execute_input": "2022-11-05T12:41:52.180215Z",
     "iopub.status.busy": "2022-11-05T12:41:52.179737Z",
     "iopub.status.idle": "2022-11-05T12:41:52.295888Z",
     "shell.execute_reply": "2022-11-05T12:41:52.295303Z",
     "shell.execute_reply.started": "2022-11-05T12:41:52.180189Z"
    },
    "tags": []
   },
   "outputs": [
    {
     "data": {
      "text/plain": [
       "[(\"'s\", 4767265),\n",
       " (\"n't\", 4396020),\n",
       " ('harry', 3991017),\n",
       " ('said', 2262072),\n",
       " ('would', 1903185),\n",
       " ('hermione', 1826879),\n",
       " ('could', 1687864),\n",
       " ('back', 1396452),\n",
       " ('draco', 1386180),\n",
       " ('one', 1376314)]"
      ]
     },
     "execution_count": 25,
     "metadata": {},
     "output_type": "execute_result"
    }
   ],
   "source": [
    "c.most_common(10)"
   ]
  },
  {
   "cell_type": "markdown",
   "metadata": {},
   "source": [
    "## Часть 2. [2 балла] Модели представления слов \n",
    "Обучите модель представления слов (word2vec, GloVe, fastText или любую другую) на материале корпуса HPAC.\n",
    "1. Продемонстрируйте, как работает поиск синонимов, ассоциаций, лишних слов в обученной модели. \n",
    "2. Визуализируйте топ-1000 слов по частоте без учета стоп-слов (п. 1.1) с помощью TSNE или UMAP (https://umap-learn.readthedocs.io)."
   ]
  },
  {
   "cell_type": "code",
   "execution_count": 8,
   "metadata": {
    "execution": {
     "iopub.execute_input": "2022-11-05T11:17:34.336429Z",
     "iopub.status.busy": "2022-11-05T11:17:34.335840Z",
     "iopub.status.idle": "2022-11-05T11:17:34.339989Z",
     "shell.execute_reply": "2022-11-05T11:17:34.339480Z",
     "shell.execute_reply.started": "2022-11-05T11:17:34.336401Z"
    },
    "tags": []
   },
   "outputs": [],
   "source": [
    "fasttext_file = f\"{root2}/lower_tokenized.txt\"\n",
    "fasttext_model = f\"{root2}/fasttext.bin\"\n",
    "\n",
    "if not os.path.exists(fasttext_file):\n",
    "    data[\"text\"].to_csv(fasttext_file, index=False, header=None)"
   ]
  },
  {
   "cell_type": "code",
   "execution_count": 10,
   "metadata": {
    "execution": {
     "iopub.execute_input": "2022-11-05T11:17:41.203883Z",
     "iopub.status.busy": "2022-11-05T11:17:41.203291Z",
     "iopub.status.idle": "2022-11-05T11:17:41.393351Z",
     "shell.execute_reply": "2022-11-05T11:17:41.392603Z",
     "shell.execute_reply.started": "2022-11-05T11:17:41.203857Z"
    },
    "tags": []
   },
   "outputs": [
    {
     "name": "stdout",
     "output_type": "stream",
     "text": [
      "1703939 873M -rw-r--r-- 1 asciishell asciishell 873M Nov  5 10:55 /home/asciishell/s3/jupyter-storage-1/nlp_hw_1/fasttext.bin.bin\n",
      "1703940 118M -rw-r--r-- 1 asciishell asciishell 118M Nov  5 10:56 /home/asciishell/s3/jupyter-storage-1/nlp_hw_1/fasttext.bin.vec\n"
     ]
    }
   ],
   "source": [
    "!ls -alish {fasttext_model}*"
   ]
  },
  {
   "cell_type": "code",
   "execution_count": 21,
   "metadata": {
    "collapsed": true,
    "execution": {
     "iopub.execute_input": "2022-11-05T10:23:09.161924Z",
     "iopub.status.busy": "2022-11-05T10:23:09.161409Z",
     "iopub.status.idle": "2022-11-05T10:56:16.457740Z",
     "shell.execute_reply": "2022-11-05T10:56:16.457035Z",
     "shell.execute_reply.started": "2022-11-05T10:23:09.161899Z"
    },
    "jupyter": {
     "outputs_hidden": true
    },
    "tags": []
   },
   "outputs": [
    {
     "name": "stdout",
     "output_type": "stream",
     "text": [
      "Read 596M words\n",
      "Number of words:  140787\n",
      "Number of labels: 0\n",
      "Progress: 100.0% words/sec/thread:   96979 lr:  0.000000 avg.loss:  0.299498 ETA:   0h 0m 0s avg.loss:  2.382985 ETA:   0h32m30s avg.loss:  1.930648 ETA:   0h31m55s avg.loss:  1.943473 ETA:   0h31m55s ETA:   0h31m54s 0.049338 avg.loss:  1.961795 ETA:   0h31m50s 0.049206 avg.loss:  1.975003 ETA:   0h31m47s  96601 lr:  0.048935 avg.loss:  1.980489 ETA:   0h31m28s 1.988230 ETA:   0h31m22s 1.986584 ETA:   0h31m18s lr:  0.048597 avg.loss:  1.986479 ETA:   0h31m 7s ETA:   0h30m55s lr:  0.047959 avg.loss:  1.969351 ETA:   0h30m36s 0.047888 avg.loss:  1.961988 ETA:   0h30m33s 1.940712 ETA:   0h30m25s 0.047601 avg.loss:  1.934765 ETA:   0h30m23s 0.046986 avg.loss:  1.901817 ETA:   0h30m 1s 1.899269 ETA:   0h29m58s 0.046643 avg.loss:  1.885855 ETA:   0h29m43s ETA:   0h29m35s avg.loss:  1.784903 ETA:   0h29m28s 1.540688 ETA:   0h29m12s avg.loss:  1.481387 ETA:   0h29m 6s 0.044598 avg.loss:  1.439557 ETA:   0h28m59s 1.258173 ETA:   0h28m14s ETA:   0h28m 6s 0.042662 avg.loss:  1.169485 ETA:   0h27m44s 0.042516 avg.loss:  1.153824 ETA:   0h27m37s lr:  0.042232 avg.loss:  1.126030 ETA:   0h27m26s 1.094460 ETA:   0h27m12s ETA:   0h26m58s 0.041352 avg.loss:  1.050342 ETA:   0h26m53s 0.040889 avg.loss:  1.015888 ETA:   0h26m34s avg.loss:  0.986924 ETA:   0h26m16s avg.loss:  0.982234 ETA:   0h26m13s 0.957279 ETA:   0h25m57s 0.039518 avg.loss:  0.932600 ETA:   0h25m41s lr:  0.039317 avg.loss:  0.923121 ETA:   0h25m32s lr:  0.039182 avg.loss:  0.916748 ETA:   0h25m27s 0.038718 avg.loss:  0.893352 ETA:   0h25m10s lr:  0.038651 avg.loss:  0.890462 ETA:   0h25m 8s 0.038314 avg.loss:  0.877739 ETA:   0h24m55sh24m39s 0.037722 avg.loss:  0.853491 ETA:   0h24m32s lr:  0.037655 avg.loss:  0.850723 ETA:   0h24m29s 0.835471 ETA:   0h24m13s avg.loss:  0.826782 ETA:   0h24m 3s 0.036697 avg.loss:  0.818100 ETA:   0h23m52s  95474 lr:  0.036630 avg.loss:  0.816445 ETA:   0h23m50s ETA:   0h23m45s 0.036242 avg.loss:  0.802786 ETA:   0h23m34s avg.loss:  0.785991 ETA:   0h23m12s ETA:   0h22m52s lr:  0.034889 avg.loss:  0.765412 ETA:   0h22m42s ETA:   0h22m25s lr:  0.034383 avg.loss:  0.752479 ETA:   0h22m22s 0.739793 ETA:   0h22m 0s 0.728424 ETA:   0h21m39s 0.724744 ETA:   0h21m32s 0.719935 ETA:   0h21m24s21m22s ETA:   0h21m19s avg.loss:  0.713998 ETA:   0h21m13s 0.032555 avg.loss:  0.711586 ETA:   0h21m 8s avg.loss:  0.703523 ETA:   0h20m53s  0h20m50s  0h20m42s 0.693300 ETA:   0h20m31s ETA:   0h20m23sh20m20s avg.loss:  0.684837 ETA:   0h20m14s 0.674810 ETA:   0h19m50s lr:  0.030506 avg.loss:  0.673555 ETA:   0h19m47s 0.030430 avg.loss:  0.672166 ETA:   0h19m44s ETA:   0h19m41s 0.030196 avg.loss:  0.668676 ETA:   0h19m35s 0.667349 ETA:   0h19m32s 0.029820 avg.loss:  0.662424 ETA:   0h19m20s 0.029294 avg.loss:  0.654956 ETA:   0h18m59s 0.652596 ETA:   0h18m53s ETA:   0h18m44s 0.642836 ETA:   0h18m26s ETA:   0h18m23s 0.027751 avg.loss:  0.633571 ETA:   0h17m58s 0.027472 avg.loss:  0.630218 ETA:   0h17m46s lr:  0.027404 avg.loss:  0.629230 ETA:   0h17m44s 0.027335 avg.loss:  0.628317 ETA:   0h17m41s ETA:   0h17m36s 0.621055 ETA:   0h17m22s 0.619901 ETA:   0h17m19s lr:  0.026090 avg.loss:  0.612228 ETA:   0h16m52s 0.025866 avg.loss:  0.609575 ETA:   0h16m43s avg.loss:  0.608775 ETA:   0h16m40s avg.loss:  0.608143 ETA:   0h16m37s lr:  0.025643 avg.loss:  0.607168 ETA:   0h16m34s avg.loss:  0.600566 ETA:   0h16m23s 0.025305 avg.loss:  0.598966 ETA:   0h16m21s  0h16m18s 0.024785 avg.loss:  0.586867 ETA:   0h16m 0s 0.585135 ETA:   0h15m57s avg.loss:  0.571775 ETA:   0h15m34s lr:  0.024028 avg.loss:  0.570119 ETA:   0h15m30s  96230 lr:  0.023876 avg.loss:  0.566909 ETA:   0h15m24s avg.loss:  0.565296 ETA:   0h15m21s 0.563704 ETA:   0h15m18s lr:  0.023648 avg.loss:  0.562114 ETA:   0h15m15s  0h15m 9s ETA:   0h14m58s 0.023058 avg.loss:  0.549930 ETA:   0h14m52sh14m50s 0.533360 ETA:   0h14m20s avg.loss:  0.530582 ETA:   0h14m14s 0.523726 ETA:   0h14m 0s avg.loss:  0.522470 ETA:   0h13m57s 0.519886 ETA:   0h13m52s 0.518593 ETA:   0h13m49s 0.020798 avg.loss:  0.507425 ETA:   0h13m24s ETA:   0h13m13s 0.019883 avg.loss:  0.492344 ETA:   0h12m48s avg.loss:  0.489094 ETA:   0h12m40s 0.484626 ETA:   0h12m29s 0.482426 ETA:   0h12m24s 0.478258 ETA:   0h12m13s 0.018480 avg.loss:  0.470808 ETA:   0h11m54s ETA:   0h11m51s avg.loss:  0.468724 ETA:   0h11m48s  0h11m45s  0h11m42sh11m31s lr:  0.017753 avg.loss:  0.460389 ETA:   0h11m25s avg.loss:  0.459352 ETA:   0h11m22s  0h11m13s 0.452080 ETA:   0h11m 1s 0.448096 ETA:   0h10m49s 0.016544 avg.loss:  0.444266 ETA:   0h10m38s 0.443659 ETA:   0h10m36s  96581 lr:  0.016383 avg.loss:  0.442199 ETA:   0h10m32s words/sec/thread:   96591 lr:  0.016008 avg.loss:  0.437425 ETA:   0h10m17s  0h 9m36s ETA:   0h 9m19s lr:  0.014195 avg.loss:  0.415739 ETA:   0h 9m 7s 0.414865 ETA:   0h 9m 4s lr:  0.013889 avg.loss:  0.412283 ETA:   0h 8m55s avg.loss:  0.410575 ETA:   0h 8m49s 0.409728 ETA:   0h 8m46s 0.406388 ETA:   0h 8m34s ETA:   0h 8m31s 0.013129 avg.loss:  0.403944 ETA:   0h 8m25s ETA:   0h 8m17s 0.012751 avg.loss:  0.399946 ETA:   0h 8m11s avg.loss:  0.396737 ETA:   0h 7m59s 0.012372 avg.loss:  0.395970 ETA:   0h 7m56s  0h 7m53s avg.loss:  0.392662 ETA:   0h 7m44s avg.loss:  0.391928 ETA:   0h 7m41s 0.390415 ETA:   0h 7m35s avg.loss:  0.388959 ETA:   0h 7m30s 0.385919 ETA:   0h 7m18s 0.011303 avg.loss:  0.385172 ETA:   0h 7m15s  0h 7m 6s 0.380841 ETA:   0h 6m58s  0h 6m52s 0.377263 ETA:   0h 6m43s 0.376554 ETA:   0h 6m40s 0.010326 avg.loss:  0.375833 ETA:   0h 6m37s 0.010167 avg.loss:  0.374370 ETA:   0h 6m31s 0.010013 avg.loss:  0.372972 ETA:   0h 6m25s avg.loss:  0.369527 ETA:   0h 6m10s 0.368946 ETA:   0h 6m 8s 0.009261 avg.loss:  0.366220 ETA:   0h 5m56s  0h 5m50s ETA:   0h 5m42s 0.008827 avg.loss:  0.362462 ETA:   0h 5m39s 0.008756 avg.loss:  0.361850 ETA:   0h 5m37s 0.360097 ETA:   0h 5m29s ETA:   0h 5m26s avg.loss:  0.358987 ETA:   0h 5m24s  0h 5m10s 0.007921 avg.loss:  0.354832 ETA:   0h 5m 4s lr:  0.007846 avg.loss:  0.354213 ETA:   0h 5m 2s 0.007776 avg.loss:  0.353642 ETA:   0h 4m59s 0.351922 ETA:   0h 4m51s  96852 lr:  0.007492 avg.loss:  0.351383 ETA:   0h 4m48s 0.350219 ETA:   0h 4m42s 0.007134 avg.loss:  0.348502 ETA:   0h 4m34s avg.loss:  0.347362 ETA:   0h 4m28s lr:  0.006913 avg.loss:  0.346767 ETA:   0h 4m26s 0.006768 avg.loss:  0.345625 ETA:   0h 4m20s avg.loss:  0.343955 ETA:   0h 4m12s ETA:   0h 4m 4s  0h 4m 1s 0.006215 avg.loss:  0.341347 ETA:   0h 3m59s 0.006145 avg.loss:  0.340819 ETA:   0h 3m56s ETA:   0h 3m53s 0.006002 avg.loss:  0.339735 ETA:   0h 3m50s  96922 lr:  0.005651 avg.loss:  0.337109 ETA:   0h 3m37s lr:  0.005438 avg.loss:  0.335531 ETA:   0h 3m29s lr:  0.005220 avg.loss:  0.333909 ETA:   0h 3m20s 0.333388 ETA:   0h 3m18s 0.005006 avg.loss:  0.332360 ETA:   0h 3m12s 0.330739 ETA:   0h 3m 3s lr:  0.004507 avg.loss:  0.328788 ETA:   0h 2m53s 0.004296 avg.loss:  0.327296 ETA:   0h 2m45s 0.004227 avg.loss:  0.326808 ETA:   0h 2m42s 0.004157 avg.loss:  0.326324 ETA:   0h 2m39s avg.loss:  0.325314 ETA:   0h 2m34s avg.loss:  0.324829 ETA:   0h 2m31s lr:  0.003872 avg.loss:  0.324336 ETA:   0h 2m28s 0.322525 ETA:   0h 2m18s 0.320677 ETA:   0h 2m 8s  0h 2m 5s ETA:   0h 2m 2s 0.316954 ETA:   0h 1m46s ETA:   0h 1m38s lr:  0.002503 avg.loss:  0.315113 ETA:   0h 1m36s avg.loss:  0.314158 ETA:   0h 1m30s ETA:   0h 1m 8s 0.001713 avg.loss:  0.309996 ETA:   0h 1m 5s avg.loss:  0.309539 ETA:   0h 1m 3s lr:  0.001566 avg.loss:  0.309064 ETA:   0h 1m 0s 0.307662 ETA:   0h 0m51s 0.306745 ETA:   0h 0m45s ETA:   0h 0m37s ETA:   0h 0m35s avg.loss:  0.302346 ETA:   0h 0m18s avg.loss:  0.301893 ETA:   0h 0m15s 0m12s\n"
     ]
    }
   ],
   "source": []
  },
  {
   "cell_type": "code",
   "execution_count": 12,
   "metadata": {
    "execution": {
     "iopub.execute_input": "2022-11-05T11:19:53.257722Z",
     "iopub.status.busy": "2022-11-05T11:19:53.256992Z",
     "iopub.status.idle": "2022-11-05T11:19:53.261313Z",
     "shell.execute_reply": "2022-11-05T11:19:53.260764Z",
     "shell.execute_reply.started": "2022-11-05T11:19:53.257697Z"
    },
    "tags": []
   },
   "outputs": [],
   "source": [
    "if not os.path.exists(fasttext_model + \".bin\")  or not os.path.exists(fasttext_model + \".vec\") :\n",
    "    !/home/asciishell/project/fastText/fasttext skipgram -input {fasttext_file} -output {fasttext_model} -epoch 5 -lr 0.05 -thread 16"
   ]
  },
  {
   "cell_type": "code",
   "execution_count": 14,
   "metadata": {
    "execution": {
     "iopub.execute_input": "2022-11-05T12:26:18.030635Z",
     "iopub.status.busy": "2022-11-05T12:26:18.030046Z",
     "iopub.status.idle": "2022-11-05T12:26:18.790149Z",
     "shell.execute_reply": "2022-11-05T12:26:18.789520Z",
     "shell.execute_reply.started": "2022-11-05T12:26:18.030606Z"
    },
    "tags": []
   },
   "outputs": [],
   "source": [
    "model = fasttext.load_model(fasttext_model + \".bin\")"
   ]
  },
  {
   "cell_type": "markdown",
   "metadata": {},
   "source": [
    "### Синонимы"
   ]
  },
  {
   "cell_type": "code",
   "execution_count": 20,
   "metadata": {
    "execution": {
     "iopub.execute_input": "2022-11-05T12:34:00.233167Z",
     "iopub.status.busy": "2022-11-05T12:34:00.232403Z",
     "iopub.status.idle": "2022-11-05T12:34:00.256016Z",
     "shell.execute_reply": "2022-11-05T12:34:00.255466Z",
     "shell.execute_reply.started": "2022-11-05T12:34:00.233138Z"
    },
    "tags": []
   },
   "outputs": [
    {
     "data": {
      "text/plain": [
       "[(0.8544706702232361, 'pain-potion'),\n",
       " (0.8502705097198486, 'brew'),\n",
       " (0.8500850796699524, 'brewed'),\n",
       " (0.8495537638664246, 'concoction'),\n",
       " (0.846314013004303, 'decoction'),\n",
       " (0.8356342315673828, 'antidote'),\n",
       " (0.8303408622741699, 'blood-replenishing'),\n",
       " (0.8265400528907776, 'ingrediant'),\n",
       " (0.8226832747459412, 'concoctions'),\n",
       " (0.817173957824707, 'pepperup')]"
      ]
     },
     "execution_count": 20,
     "metadata": {},
     "output_type": "execute_result"
    }
   ],
   "source": [
    "model.get_nearest_neighbors(\"potion\")"
   ]
  },
  {
   "cell_type": "code",
   "execution_count": 21,
   "metadata": {
    "execution": {
     "iopub.execute_input": "2022-11-05T12:34:09.672982Z",
     "iopub.status.busy": "2022-11-05T12:34:09.672262Z",
     "iopub.status.idle": "2022-11-05T12:34:09.695101Z",
     "shell.execute_reply": "2022-11-05T12:34:09.694550Z",
     "shell.execute_reply.started": "2022-11-05T12:34:09.672957Z"
    }
   },
   "outputs": [
    {
     "data": {
      "text/plain": [
       "[(0.8508723378181458, '.'),\n",
       " (0.8338109254837036, 'hermione'),\n",
       " (0.8287236094474792, 'he'),\n",
       " (0.8246777057647705, ','),\n",
       " (0.8209803104400635, 'ron'),\n",
       " (0.813089907169342, 'draco'),\n",
       " (0.7983589768409729, 'then'),\n",
       " (0.7869053483009338, 'and'),\n",
       " (0.7773909568786621, 'again'),\n",
       " (0.7771849036216736, 'ginny')]"
      ]
     },
     "execution_count": 21,
     "metadata": {},
     "output_type": "execute_result"
    }
   ],
   "source": [
    "model.get_nearest_neighbors(\"harry\")"
   ]
  },
  {
   "cell_type": "markdown",
   "metadata": {
    "execution": {
     "iopub.execute_input": "2022-11-05T12:36:21.400496Z",
     "iopub.status.busy": "2022-11-05T12:36:21.399795Z",
     "iopub.status.idle": "2022-11-05T12:36:21.403050Z",
     "shell.execute_reply": "2022-11-05T12:36:21.402517Z",
     "shell.execute_reply.started": "2022-11-05T12:36:21.400472Z"
    }
   },
   "source": [
    "### Ассоциации"
   ]
  },
  {
   "cell_type": "code",
   "execution_count": 23,
   "metadata": {
    "execution": {
     "iopub.execute_input": "2022-11-05T12:36:52.892820Z",
     "iopub.status.busy": "2022-11-05T12:36:52.892066Z",
     "iopub.status.idle": "2022-11-05T12:36:52.916903Z",
     "shell.execute_reply": "2022-11-05T12:36:52.916344Z",
     "shell.execute_reply.started": "2022-11-05T12:36:52.892795Z"
    }
   },
   "outputs": [
    {
     "data": {
      "text/plain": [
       "[(0.6799185276031494, 'yeah'),\n",
       " (0.6708487868309021, 'katrin4p'),\n",
       " (0.6635469794273376, 'hannahs'),\n",
       " (0.659058690071106, '\"hannah'),\n",
       " (0.6589494347572327, 'anthony37'),\n",
       " (0.6588822603225708, 'ok'),\n",
       " (0.6571850776672363, 'danie'),\n",
       " (0.6546943783760071, 'edarcy03'),\n",
       " (0.6543132066726685, 'okay'),\n",
       " (0.6537677049636841, 'tokay')]"
      ]
     },
     "execution_count": 23,
     "metadata": {},
     "output_type": "execute_result"
    }
   ],
   "source": [
    "model.get_analogies(\"wowan\", \"man\", \"harry\")"
   ]
  },
  {
   "cell_type": "markdown",
   "metadata": {},
   "source": [
    "### Лишние слова\n",
    "Что это?"
   ]
  },
  {
   "cell_type": "markdown",
   "metadata": {},
   "source": [
    "### t-SNE"
   ]
  },
  {
   "cell_type": "code",
   "execution_count": 30,
   "metadata": {
    "execution": {
     "iopub.execute_input": "2022-11-05T12:47:29.402605Z",
     "iopub.status.busy": "2022-11-05T12:47:29.401855Z",
     "iopub.status.idle": "2022-11-05T12:47:29.405445Z",
     "shell.execute_reply": "2022-11-05T12:47:29.404903Z",
     "shell.execute_reply.started": "2022-11-05T12:47:29.402578Z"
    }
   },
   "outputs": [],
   "source": [
    "from sklearn.manifold import TSNE"
   ]
  },
  {
   "cell_type": "code",
   "execution_count": 48,
   "metadata": {
    "execution": {
     "iopub.execute_input": "2022-11-05T12:52:53.551145Z",
     "iopub.status.busy": "2022-11-05T12:52:53.550562Z",
     "iopub.status.idle": "2022-11-05T12:52:56.046866Z",
     "shell.execute_reply": "2022-11-05T12:52:56.046157Z",
     "shell.execute_reply.started": "2022-11-05T12:52:53.551118Z"
    },
    "tags": []
   },
   "outputs": [
    {
     "name": "stderr",
     "output_type": "stream",
     "text": [
      "/home/asciishell/project/venv3.10/lib/python3.10/site-packages/sklearn/manifold/_t_sne.py:996: FutureWarning: The PCA initialization in TSNE will change to have the standard deviation of PC1 equal to 1e-4 in 1.2. This will ensure better convergence.\n",
      "  warnings.warn(\n"
     ]
    }
   ],
   "source": [
    "with open(f\"{root2}/top_1000.txt\", \"rt\") as f:\n",
    "    texts = f.readlines()\n",
    "    \n",
    "embeds = np.stack([model.get_word_vector(x) for x in texts])\n",
    "embeds_tsne = TSNE(n_components=2, random_state=42, learning_rate=\"auto\", init=\"pca\").fit_transform(embeds)"
   ]
  },
  {
   "cell_type": "code",
   "execution_count": 52,
   "metadata": {
    "execution": {
     "iopub.execute_input": "2022-11-05T12:53:19.412800Z",
     "iopub.status.busy": "2022-11-05T12:53:19.412068Z",
     "iopub.status.idle": "2022-11-05T12:53:19.582854Z",
     "shell.execute_reply": "2022-11-05T12:53:19.582281Z",
     "shell.execute_reply.started": "2022-11-05T12:53:19.412775Z"
    },
    "tags": []
   },
   "outputs": [
    {
     "data": {
      "text/plain": [
       "<matplotlib.collections.PathCollection at 0x7f8ffddce6b0>"
      ]
     },
     "execution_count": 52,
     "metadata": {},
     "output_type": "execute_result"
    },
    {
     "data": {
      "image/png": "[encoded data removed]",
      "text/plain": [
       "<Figure size 640x480 with 1 Axes>"
      ]
     },
     "metadata": {},
     "output_type": "display_data"
    }
   ],
   "source": [
    "plt.scatter(*embeds_tsne.T)"
   ]
  },
  {
   "cell_type": "markdown",
   "metadata": {},
   "source": [
    "## Часть 3. [5 баллов] Классификация текстов\n",
    "Задача классификации формулируется так: данный фрагмент фанфика описывают какую-то ситуацию, которая предшествует произнесению заклинания. Требуется по тексту предсказать, какое именно заклинание будет произнесено. Таким образом, заклинание - это фактически метка класса. Основная мера качества – macro $F_1$.\n",
    "Обучите несколько классификаторов и сравните их между собой. Оцените качество классификаторов на частых и редких классах. Какие классы чаще всего оказываются перепутаны? Связаны ли ошибки со смыслом заклинаний?\n",
    "\n",
    "Используйте фрагменты из множества train для обучения, из множества dev для отладки, из множества test – для тестирования и получения итоговых результатов. \n",
    "\n",
    "1. [1 балл] Используйте fastText в качестве baseline-классификатора.\n",
    "2. [2 балла] Используйте сверточные  или реккурентные сети в качестве более продвинутого классификатора. Поэкспериментируйте с количеством и размерностью фильтров, используйте разные размеры окон, попробуйте использовать $k$-max pooling. \n",
    "3. [2 балла] Попробуйте расширить обучающее множество за счет аугментации данных. Если вам понадобится словарь синонимов, можно использовать WordNet (ниже вы найдете примеры).\n",
    "\n",
    "[бонус] Используйте результат max pooling'а как эмбеддинг входного текста. Визуализируйте эмбеддинги 500-1000 предложений из обучающего множества и изучите свойства получившегося пространства.\n",
    "\n",
    "[бонус] Используйте ваш любимый классификатор и любые (честные) способы повышения качества классификации и получите macro $F_1$ больше 0.5."
   ]
  },
  {
   "cell_type": "code",
   "execution_count": 127,
   "metadata": {
    "execution": {
     "iopub.execute_input": "2022-11-05T18:13:06.182008Z",
     "iopub.status.busy": "2022-11-05T18:13:06.181103Z",
     "iopub.status.idle": "2022-11-05T18:13:06.185621Z",
     "shell.execute_reply": "2022-11-05T18:13:06.184742Z",
     "shell.execute_reply.started": "2022-11-05T18:13:06.181977Z"
    }
   },
   "outputs": [],
   "source": [
    "from sklearn.metrics import f1_score"
   ]
  },
  {
   "cell_type": "code",
   "execution_count": 59,
   "metadata": {
    "execution": {
     "iopub.execute_input": "2022-11-05T13:03:57.970676Z",
     "iopub.status.busy": "2022-11-05T13:03:57.969902Z",
     "iopub.status.idle": "2022-11-05T13:03:58.530244Z",
     "shell.execute_reply": "2022-11-05T13:03:58.529580Z",
     "shell.execute_reply.started": "2022-11-05T13:03:57.970651Z"
    },
    "tags": []
   },
   "outputs": [],
   "source": [
    "df_train = pd.read_csv(f\"{root}/hpac_corpus/hpac_training_128.tsv\", sep=\"\\t\", header=None, names=[\"rnd\", \"target\", \"text\"])\n",
    "df_dev = pd.read_csv(f\"{root}/hpac_corpus/hpac_dev_128.tsv\", sep=\"\\t\", header=None, names=[\"rnd\", \"target\", \"text\"])\n",
    "df_test = pd.read_csv(f\"{root}/hpac_corpus/hpac_test_128.tsv\", sep=\"\\t\", header=None, names=[\"rnd\", \"target\", \"text\"])"
   ]
  },
  {
   "cell_type": "markdown",
   "metadata": {},
   "source": [
    "### FastText"
   ]
  },
  {
   "cell_type": "code",
   "execution_count": 92,
   "metadata": {
    "execution": {
     "iopub.execute_input": "2022-11-05T17:39:55.609082Z",
     "iopub.status.busy": "2022-11-05T17:39:55.608390Z",
     "iopub.status.idle": "2022-11-05T17:39:57.996805Z",
     "shell.execute_reply": "2022-11-05T17:39:57.996090Z",
     "shell.execute_reply.started": "2022-11-05T17:39:55.609054Z"
    },
    "tags": []
   },
   "outputs": [],
   "source": [
    "fasttext_file = f\"{root2}/train.txt\"\n",
    "fasttext_model = f\"{root2}/fasttext_clf\"\n",
    "\n",
    "if not os.path.exists(fasttext_file) or True:\n",
    "    df_train.assign(label=df_train[\"target\"].map(lambda x: \"__label__\" + x))[[\"label\", \"text\"]].to_csv(\n",
    "        fasttext_file, index=False, header=None, sep=\" \", quotechar=\"\", escapechar=\" \", quoting=3\n",
    "    )\n",
    "    \n",
    "    df_dev.assign(label=df_train[\"target\"].map(lambda x: \"__label__\" + x))[[\"label\", \"text\"]].to_csv(\n",
    "        fasttext_file + \".dev\", index=False, header=None, sep=\" \", quotechar=\"\", escapechar=\" \", quoting=3\n",
    "    )"
   ]
  },
  {
   "cell_type": "code",
   "execution_count": 134,
   "metadata": {
    "execution": {
     "iopub.execute_input": "2022-11-05T18:20:04.168039Z",
     "iopub.status.busy": "2022-11-05T18:20:04.167253Z",
     "iopub.status.idle": "2022-11-05T18:25:21.182667Z",
     "shell.execute_reply": "2022-11-05T18:25:21.181851Z",
     "shell.execute_reply.started": "2022-11-05T18:20:04.168013Z"
    },
    "tags": []
   },
   "outputs": [
    {
     "name": "stdout",
     "output_type": "stream",
     "text": [
      "Progress: 100.0% Trials:   23 Best score:  0.123471 ETA:   0h 0m 0ss\n",
      "Training again with best arguments\n",
      "Read 7M words\n",
      "Number of words:  58022\n",
      "Number of labels: 85\n",
      "Progress: 100.0% words/sec/thread:  248748 lr:  0.000000 avg.loss:  3.862099 ETA:   0h 0m 0sm 1s\n"
     ]
    }
   ],
   "source": [
    "if not os.path.exists(fasttext_model + \".bin\")  or not os.path.exists(fasttext_model + \".vec\") or True:\n",
    "    !/home/asciishell/project/fastText/fasttext supervised  \\\n",
    "        -input {fasttext_file} \\\n",
    "        -output {fasttext_model} \\\n",
    "        -autotune-validation {fasttext_file}.dev \\\n",
    "        -thread 16 \\\n",
    "        # -epoch 25 \\\n",
    "        # -lr 0.9 \\\n",
    "        # -pretrainedVectors {root}/wiki-news-300d-1M.vec \\\n",
    "        # -dim 300 \\\n"
   ]
  },
  {
   "cell_type": "code",
   "execution_count": 136,
   "metadata": {
    "execution": {
     "iopub.execute_input": "2022-11-05T18:25:21.190206Z",
     "iopub.status.busy": "2022-11-05T18:25:21.189806Z",
     "iopub.status.idle": "2022-11-05T18:25:21.456330Z",
     "shell.execute_reply": "2022-11-05T18:25:21.455658Z",
     "shell.execute_reply.started": "2022-11-05T18:25:21.190185Z"
    },
    "tags": []
   },
   "outputs": [],
   "source": [
    "model = fasttext.load_model(fasttext_model + \".bin\")"
   ]
  },
  {
   "cell_type": "code",
   "execution_count": 138,
   "metadata": {
    "execution": {
     "iopub.execute_input": "2022-11-05T18:25:21.463196Z",
     "iopub.status.busy": "2022-11-05T18:25:21.462970Z",
     "iopub.status.idle": "2022-11-05T18:25:40.126282Z",
     "shell.execute_reply": "2022-11-05T18:25:40.125516Z",
     "shell.execute_reply.started": "2022-11-05T18:25:21.463176Z"
    },
    "tags": []
   },
   "outputs": [
    {
     "name": "stdout",
     "output_type": "stream",
     "text": [
      "Sample train\tscore:0.0045\n",
      "Sample dev\tscore:0.0046\n",
      "Sample test\tscore:0.0045\n"
     ]
    }
   ],
   "source": [
    "for name, sample in [('train', df_train), ('dev', df_dev), ('test', df_test)]:\n",
    "    score = f1_score(\n",
    "        sample[\"target\"],\n",
    "        [x[0].replace(\"__label__\", \"\") for x in model.predict(list(sample[\"text\"].values))[0]],\n",
    "        average=\"macro\",\n",
    "    )\n",
    "    print(f\"Sample {name}\\tscore:{score:.4f}\")"
   ]
  },
  {
   "cell_type": "markdown",
   "metadata": {},
   "source": [
    "### LinearRegression"
   ]
  },
  {
   "cell_type": "code",
   "execution_count": 153,
   "metadata": {
    "execution": {
     "iopub.execute_input": "2022-11-05T18:41:57.410203Z",
     "iopub.status.busy": "2022-11-05T18:41:57.409408Z",
     "iopub.status.idle": "2022-11-05T18:41:57.413645Z",
     "shell.execute_reply": "2022-11-05T18:41:57.412942Z",
     "shell.execute_reply.started": "2022-11-05T18:41:57.410171Z"
    },
    "tags": []
   },
   "outputs": [],
   "source": [
    "from sklearn.linear_model import LogisticRegression\n",
    "from sklearn.feature_extraction.text import TfidfVectorizer\n",
    "from nltk.stem import SnowballStemmer"
   ]
  },
  {
   "cell_type": "code",
   "execution_count": 154,
   "metadata": {
    "execution": {
     "iopub.execute_input": "2022-11-05T18:42:04.210263Z",
     "iopub.status.busy": "2022-11-05T18:42:04.209484Z",
     "iopub.status.idle": "2022-11-05T18:42:04.213469Z",
     "shell.execute_reply": "2022-11-05T18:42:04.212785Z",
     "shell.execute_reply.started": "2022-11-05T18:42:04.210232Z"
    },
    "tags": []
   },
   "outputs": [],
   "source": [
    "stem = SnowballStemmer(\"english\")"
   ]
  },
  {
   "cell_type": "code",
   "execution_count": 160,
   "metadata": {
    "execution": {
     "iopub.execute_input": "2022-11-05T18:44:22.874977Z",
     "iopub.status.busy": "2022-11-05T18:44:22.873855Z",
     "iopub.status.idle": "2022-11-05T18:44:40.500989Z",
     "shell.execute_reply": "2022-11-05T18:44:40.500296Z",
     "shell.execute_reply.started": "2022-11-05T18:44:22.874934Z"
    },
    "tags": []
   },
   "outputs": [
    {
     "data": {
      "application/vnd.jupyter.widget-view+json": {
       "model_id": "a7640377ca2544238745b2ea36fa7278",
       "version_major": 2,
       "version_minor": 0
      },
      "text/plain": [
       "  0%|          | 0/60980 [00:00<?, ?it/s]"
      ]
     },
     "metadata": {},
     "output_type": "display_data"
    }
   ],
   "source": [
    "tfidf = TfidfVectorizer(min_df=10, max_df=0.5, ngram_range=(1, 2), max_features=30000)\n",
    "x = tfidf.fit_transform([stem.stem(x) for x in tqdm(df_train[\"text\"].values)])"
   ]
  },
  {
   "cell_type": "code",
   "execution_count": 161,
   "metadata": {
    "execution": {
     "iopub.execute_input": "2022-11-05T18:44:40.502683Z",
     "iopub.status.busy": "2022-11-05T18:44:40.502244Z",
     "iopub.status.idle": "2022-11-05T18:44:40.506291Z",
     "shell.execute_reply": "2022-11-05T18:44:40.505804Z",
     "shell.execute_reply.started": "2022-11-05T18:44:40.502661Z"
    },
    "tags": []
   },
   "outputs": [
    {
     "data": {
      "text/plain": [
       "(60980, 30000)"
      ]
     },
     "execution_count": 161,
     "metadata": {},
     "output_type": "execute_result"
    }
   ],
   "source": [
    "x.shape"
   ]
  },
  {
   "cell_type": "code",
   "execution_count": 162,
   "metadata": {
    "execution": {
     "iopub.execute_input": "2022-11-05T18:44:40.507373Z",
     "iopub.status.busy": "2022-11-05T18:44:40.507006Z",
     "iopub.status.idle": "2022-11-05T18:48:03.307793Z",
     "shell.execute_reply": "2022-11-05T18:48:03.307213Z",
     "shell.execute_reply.started": "2022-11-05T18:44:40.507354Z"
    },
    "tags": []
   },
   "outputs": [
    {
     "data": {
      "text/html": [
       "<style>#sk-container-id-2 {color: black;background-color: white;}#sk-container-id-2 pre{padding: 0;}#sk-container-id-2 div.sk-toggleable {background-color: white;}#sk-container-id-2 label.sk-toggleable__label {cursor: pointer;display: block;width: 100%;margin-bottom: 0;padding: 0.3em;box-sizing: border-box;text-align: center;}#sk-container-id-2 label.sk-toggleable__label-arrow:before {content: \"▸\";float: left;margin-right: 0.25em;color: #696969;}#sk-container-id-2 label.sk-toggleable__label-arrow:hover:before {color: black;}#sk-container-id-2 div.sk-estimator:hover label.sk-toggleable__label-arrow:before {color: black;}#sk-container-id-2 div.sk-toggleable__content {max-height: 0;max-width: 0;overflow: hidden;text-align: left;background-color: #f0f8ff;}#sk-container-id-2 div.sk-toggleable__content pre {margin: 0.2em;color: black;border-radius: 0.25em;background-color: #f0f8ff;}#sk-container-id-2 input.sk-toggleable__control:checked~div.sk-toggleable__content {max-height: 200px;max-width: 100%;overflow: auto;}#sk-container-id-2 input.sk-toggleable__control:checked~label.sk-toggleable__label-arrow:before {content: \"▾\";}#sk-container-id-2 div.sk-estimator input.sk-toggleable__control:checked~label.sk-toggleable__label {background-color: #d4ebff;}#sk-container-id-2 div.sk-label input.sk-toggleable__control:checked~label.sk-toggleable__label {background-color: #d4ebff;}#sk-container-id-2 input.sk-hidden--visually {border: 0;clip: rect(1px 1px 1px 1px);clip: rect(1px, 1px, 1px, 1px);height: 1px;margin: -1px;overflow: hidden;padding: 0;position: absolute;width: 1px;}#sk-container-id-2 div.sk-estimator {font-family: monospace;background-color: #f0f8ff;border: 1px dotted black;border-radius: 0.25em;box-sizing: border-box;margin-bottom: 0.5em;}#sk-container-id-2 div.sk-estimator:hover {background-color: #d4ebff;}#sk-container-id-2 div.sk-parallel-item::after {content: \"\";width: 100%;border-bottom: 1px solid gray;flex-grow: 1;}#sk-container-id-2 div.sk-label:hover label.sk-toggleable__label {background-color: #d4ebff;}#sk-container-id-2 div.sk-serial::before {content: \"\";position: absolute;border-left: 1px solid gray;box-sizing: border-box;top: 0;bottom: 0;left: 50%;z-index: 0;}#sk-container-id-2 div.sk-serial {display: flex;flex-direction: column;align-items: center;background-color: white;padding-right: 0.2em;padding-left: 0.2em;position: relative;}#sk-container-id-2 div.sk-item {position: relative;z-index: 1;}#sk-container-id-2 div.sk-parallel {display: flex;align-items: stretch;justify-content: center;background-color: white;position: relative;}#sk-container-id-2 div.sk-item::before, #sk-container-id-2 div.sk-parallel-item::before {content: \"\";position: absolute;border-left: 1px solid gray;box-sizing: border-box;top: 0;bottom: 0;left: 50%;z-index: -1;}#sk-container-id-2 div.sk-parallel-item {display: flex;flex-direction: column;z-index: 1;position: relative;background-color: white;}#sk-container-id-2 div.sk-parallel-item:first-child::after {align-self: flex-end;width: 50%;}#sk-container-id-2 div.sk-parallel-item:last-child::after {align-self: flex-start;width: 50%;}#sk-container-id-2 div.sk-parallel-item:only-child::after {width: 0;}#sk-container-id-2 div.sk-dashed-wrapped {border: 1px dashed gray;margin: 0 0.4em 0.5em 0.4em;box-sizing: border-box;padding-bottom: 0.4em;background-color: white;}#sk-container-id-2 div.sk-label label {font-family: monospace;font-weight: bold;display: inline-block;line-height: 1.2em;}#sk-container-id-2 div.sk-label-container {text-align: center;}#sk-container-id-2 div.sk-container {/* jupyter's `normalize.less` sets `[hidden] { display: none; }` but bootstrap.min.css set `[hidden] { display: none !important; }` so we also need the `!important` here to be able to override the default hidden behavior on the sphinx rendered scikit-learn.org. See: https://github.com/scikit-learn/scikit-learn/issues/21755 */display: inline-block !important;position: relative;}#sk-container-id-2 div.sk-text-repr-fallback {display: none;}</style><div id=\"sk-container-id-2\" class=\"sk-top-container\"><div class=\"sk-text-repr-fallback\"><pre>LogisticRegression(class_weight=&#x27;balanced&#x27;, max_iter=200)</pre><b>In a Jupyter environment, please rerun this cell to show the HTML representation or trust the notebook. <br />On GitHub, the HTML representation is unable to render, please try loading this page with nbviewer.org.</b></div><div class=\"sk-container\" hidden><div class=\"sk-item\"><div class=\"sk-estimator sk-toggleable\"><input class=\"sk-toggleable__control sk-hidden--visually\" id=\"sk-estimator-id-2\" type=\"checkbox\" checked><label for=\"sk-estimator-id-2\" class=\"sk-toggleable__label sk-toggleable__label-arrow\">LogisticRegression</label><div class=\"sk-toggleable__content\"><pre>LogisticRegression(class_weight=&#x27;balanced&#x27;, max_iter=200)</pre></div></div></div></div></div>"
      ],
      "text/plain": [
       "LogisticRegression(class_weight='balanced', max_iter=200)"
      ]
     },
     "execution_count": 162,
     "metadata": {},
     "output_type": "execute_result"
    }
   ],
   "source": [
    "lr = LogisticRegression(class_weight=\"balanced\", max_iter=200)\n",
    "lr.fit(x, df_train[\"target\"])"
   ]
  },
  {
   "cell_type": "code",
   "execution_count": 163,
   "metadata": {
    "execution": {
     "iopub.execute_input": "2022-11-05T18:48:03.309439Z",
     "iopub.status.busy": "2022-11-05T18:48:03.309060Z",
     "iopub.status.idle": "2022-11-05T18:48:03.858646Z",
     "shell.execute_reply": "2022-11-05T18:48:03.858060Z",
     "shell.execute_reply.started": "2022-11-05T18:48:03.309418Z"
    },
    "tags": []
   },
   "outputs": [
    {
     "data": {
      "text/plain": [
       "array(['RIDDIKULUS', 'RIDDIKULUS', 'INCENDIO', ..., 'CONFRINGO',\n",
       "       'AGUAMENTI', 'POINT_ME'], dtype=object)"
      ]
     },
     "execution_count": 163,
     "metadata": {},
     "output_type": "execute_result"
    }
   ],
   "source": [
    "lr.predict(x)"
   ]
  },
  {
   "cell_type": "code",
   "execution_count": 164,
   "metadata": {
    "execution": {
     "iopub.execute_input": "2022-11-05T18:48:03.860020Z",
     "iopub.status.busy": "2022-11-05T18:48:03.859526Z",
     "iopub.status.idle": "2022-11-05T18:48:15.291890Z",
     "shell.execute_reply": "2022-11-05T18:48:15.291251Z",
     "shell.execute_reply.started": "2022-11-05T18:48:03.859987Z"
    },
    "tags": []
   },
   "outputs": [
    {
     "name": "stdout",
     "output_type": "stream",
     "text": [
      "Sample train\tscore:0.5545\n",
      "Sample dev\tscore:0.1492\n",
      "Sample test\tscore:0.1686\n"
     ]
    }
   ],
   "source": [
    "for name, sample in [('train', df_train), ('dev', df_dev), ('test', df_test)]:\n",
    "    predict = lr.predict(tfidf.transform(sample[\"text\"]))\n",
    "    score = f1_score(\n",
    "        sample[\"target\"],\n",
    "        predict,\n",
    "        average=\"macro\",\n",
    "    )\n",
    "    print(f\"Sample {name}\\tscore:{score:.4f}\")"
   ]
  },
  {
   "cell_type": "code",
   "execution_count": null,
   "metadata": {},
   "outputs": [],
   "source": []
  },
  {
   "cell_type": "code",
   "execution_count": null,
   "metadata": {},
   "outputs": [],
   "source": []
  },
  {
   "cell_type": "code",
   "execution_count": null,
   "metadata": {},
   "outputs": [],
   "source": []
  },
  {
   "cell_type": "markdown",
   "metadata": {},
   "source": [
    "## Часть 4. [1 балл] Итоги\n",
    "Напишите краткое резюме проделанной работы. Читали ли вы сами Гарри Поттера или фанфики о нем и помогло ли вам знание предметной области в выполнении домашнего задания?"
   ]
  },
  {
   "cell_type": "code",
   "execution_count": null,
   "metadata": {},
   "outputs": [],
   "source": [
    "!unzip hpac_splits"
   ]
  },
  {
   "cell_type": "code",
   "execution_count": null,
   "metadata": {},
   "outputs": [],
   "source": []
  },
  {
   "cell_type": "markdown",
   "metadata": {},
   "source": [
    "train, test, dev файлы"
   ]
  },
  {
   "cell_type": "code",
   "execution_count": null,
   "metadata": {},
   "outputs": [],
   "source": [
    "import pandas as pd\n",
    "\n",
    "df = pd.read_csv(\"hpac_splits/hpac_training_128.tsv\", sep=\"\\t\", header=None)"
   ]
  },
  {
   "cell_type": "code",
   "execution_count": null,
   "metadata": {},
   "outputs": [],
   "source": [
    "df.head()"
   ]
  },
  {
   "cell_type": "code",
   "execution_count": null,
   "metadata": {},
   "outputs": [],
   "source": [
    "df.iloc[0][1], df.iloc[0][2]"
   ]
  },
  {
   "cell_type": "markdown",
   "metadata": {},
   "source": [
    "### Как использовать WordNet из nltk?"
   ]
  },
  {
   "cell_type": "code",
   "execution_count": 18,
   "metadata": {
    "execution": {
     "iopub.execute_input": "2022-11-05T08:42:47.397738Z",
     "iopub.status.busy": "2022-11-05T08:42:47.397056Z",
     "iopub.status.idle": "2022-11-05T08:43:06.303433Z",
     "shell.execute_reply": "2022-11-05T08:43:06.302834Z",
     "shell.execute_reply.started": "2022-11-05T08:42:47.397713Z"
    }
   },
   "outputs": [
    {
     "name": "stderr",
     "output_type": "stream",
     "text": [
      "[nltk_data] Downloading package wordnet to\n",
      "[nltk_data]     /home/asciishell/nltk_data...\n"
     ]
    },
    {
     "data": {
      "text/plain": [
       "True"
      ]
     },
     "execution_count": 18,
     "metadata": {},
     "output_type": "execute_result"
    }
   ],
   "source": [
    "import nltk"
   ]
  },
  {
   "cell_type": "code",
   "execution_count": 21,
   "metadata": {
    "execution": {
     "iopub.execute_input": "2022-11-05T08:44:24.260901Z",
     "iopub.status.busy": "2022-11-05T08:44:24.260226Z",
     "iopub.status.idle": "2022-11-05T08:44:25.433284Z",
     "shell.execute_reply": "2022-11-05T08:44:25.432669Z",
     "shell.execute_reply.started": "2022-11-05T08:44:24.260875Z"
    },
    "tags": []
   },
   "outputs": [
    {
     "data": {
      "text/plain": [
       "[Synset('magic.n.01'), Synset('magic_trick.n.01'), Synset('charming.s.02')]"
      ]
     },
     "execution_count": 21,
     "metadata": {},
     "output_type": "execute_result"
    }
   ],
   "source": [
    "# слово -> множество синсетов (синонимов разных смыслов исходного слова)\n",
    "from nltk.corpus import wordnet as wn\n",
    "\n",
    "wn.synsets(\"magic\")"
   ]
  },
  {
   "cell_type": "code",
   "execution_count": 22,
   "metadata": {
    "execution": {
     "iopub.execute_input": "2022-11-05T08:44:27.281090Z",
     "iopub.status.busy": "2022-11-05T08:44:27.280552Z",
     "iopub.status.idle": "2022-11-05T08:44:27.284804Z",
     "shell.execute_reply": "2022-11-05T08:44:27.284338Z",
     "shell.execute_reply.started": "2022-11-05T08:44:27.281067Z"
    }
   },
   "outputs": [
    {
     "data": {
      "text/plain": [
       "Lemma('magic_trick.n.01.magic_trick')"
      ]
     },
     "execution_count": 22,
     "metadata": {},
     "output_type": "execute_result"
    }
   ],
   "source": [
    "# посмотрим, что внутри одного синсета\n",
    "wn.synsets(\"magic\")[1].lemmas()[0]"
   ]
  },
  {
   "cell_type": "code",
   "execution_count": 23,
   "metadata": {
    "execution": {
     "iopub.execute_input": "2022-11-05T08:44:29.626900Z",
     "iopub.status.busy": "2022-11-05T08:44:29.626439Z",
     "iopub.status.idle": "2022-11-05T08:44:29.630856Z",
     "shell.execute_reply": "2022-11-05T08:44:29.630358Z",
     "shell.execute_reply.started": "2022-11-05T08:44:29.626877Z"
    }
   },
   "outputs": [
    {
     "data": {
      "text/plain": [
       "'deception'"
      ]
     },
     "execution_count": 23,
     "metadata": {},
     "output_type": "execute_result"
    }
   ],
   "source": [
    "# возьмем лемму одного из слов из синсета\n",
    "wn.synsets(\"magic\")[1].lemmas()[-1].name()"
   ]
  },
  {
   "cell_type": "code",
   "execution_count": null,
   "metadata": {},
   "outputs": [],
   "source": []
  }
 ],
 "metadata": {
  "kernelspec": {
   "display_name": "Python 3 (ipykernel)",
   "language": "python",
   "name": "python3"
  },
  "language_info": {
   "codemirror_mode": {
    "name": "ipython",
    "version": 3
   },
   "file_extension": ".py",
   "mimetype": "text/x-python",
   "name": "python",
   "nbconvert_exporter": "python",
   "pygments_lexer": "ipython3",
   "version": "3.10.8"
  }
 },
 "nbformat": 4,
 "nbformat_minor": 4
}
